{
 "cells": [
  {
   "cell_type": "markdown",
   "metadata": {},
   "source": [
    "## Metric comparison preperation"
   ]
  },
  {
   "cell_type": "code",
   "execution_count": 20,
   "metadata": {},
   "outputs": [],
   "source": [
    "import readCSV as reader\n",
    "import glob\n",
    "import random \n",
    "from sklearn.manifold import MDS\n",
    "import matplotlib.pyplot as plt\n",
    "from scipy import stats\n",
    "import numpy as np"
   ]
  },
  {
   "cell_type": "code",
   "execution_count": 21,
   "metadata": {},
   "outputs": [],
   "source": [
    "def calculateKSMatrix(dists):\n",
    "    dist = []\n",
    "\n",
    "    for i in range(len(dists)):\n",
    "        dist = dist + dists[i]\n",
    "    matrix = np.empty((len(dist),len(dist)))\n",
    "\n",
    "    for i in range(len(dist)):\n",
    "        matrix[i,i] = 0\n",
    "        for j in range(i+1, len(dist)):\n",
    "            value, p = stats.ks_2samp(dist[i], dist[j])\n",
    "            matrix[i, j] = value\n",
    "            matrix[j, i] = value\n",
    "            value, p = stats.ks_2samp(dist[j], dist[i])\n",
    "    return matrix\n"
   ]
  },
  {
   "cell_type": "code",
   "execution_count": 22,
   "metadata": {},
   "outputs": [],
   "source": [
    "def calculateMDS(dissimilarities):\n",
    "    embedding = MDS(n_components=2, dissimilarity='precomputed')\n",
    "    trans = embedding.fit_transform(X=dissimilarities)\n",
    "    return trans"
   ]
  },
  {
   "cell_type": "code",
   "execution_count": 27,
   "metadata": {},
   "outputs": [],
   "source": [
    "def plot(names, coords, index = 0, title=''):\n",
    "    half_length = int(coords.shape[0] / len(names))\n",
    "    color = ['blue', 'red', 'green']\n",
    "    graph = plt.figure(index)\n",
    "    plt.title(title)\n",
    "    for i in range(len(names)):\n",
    "        x = (coords[(i*half_length):((i+1)*half_length), 0].tolist())\n",
    "        y = (coords[(i*half_length):((i+1)*half_length), 1].tolist())\n",
    "        plt.plot(x, y, color=color[i], marker='o', label = names[i], linestyle='', alpha=0.7)\n",
    "    plt.legend(loc='upper right')\n",
    "    plt.savefig(fname = title+'.png', dpi=150)\n",
    "    #graph.show()\n"
   ]
  },
  {
   "cell_type": "markdown",
   "metadata": {},
   "source": [
    "## Read Files\n",
    "1. define class for metric reading of each graph type"
   ]
  },
  {
   "cell_type": "code",
   "execution_count": 45,
   "metadata": {},
   "outputs": [],
   "source": [
    "class GraphType:\n",
    "    \n",
    "    # init with path contrain files and number of files to read reader is imported from (readCSV)\n",
    "    def __init__(self, path, number):\n",
    "        self.out_ds = []\n",
    "        self.nas = []\n",
    "        self.mpcs = []\n",
    "        models = reader.readmultiplefiles(path, number)\n",
    "        for i in range(len(models)):\n",
    "            out_d, na, mpc = reader.getmetrics(models[i])\n",
    "            self.out_ds.append(out_d)\n",
    "            self.nas.append(na)\n",
    "            self.mpcs.append(mpc)"
   ]
  },
  {
   "cell_type": "markdown",
   "metadata": {},
   "source": [
    "2. read metrics for each graph type"
   ]
  },
  {
   "cell_type": "code",
   "execution_count": 48,
   "metadata": {},
   "outputs": [],
   "source": [
    "human = GraphType('../statistics/humanOutput/', 100)\n",
    "viatra30 = GraphType('../statistics/viatraOutput30/', 100)\n",
    "viatra100 = GraphType('../statistics/viatraOutput100/', 100)\n",
    "random = GraphType('../statistics/randomOutput/', 100)\n",
    "alloy = GraphType('../statistics/alloyOutput/', 100)"
   ]
  },
  {
   "cell_type": "markdown",
   "metadata": {},
   "source": [
    "* outdegree comparison for human, Viatra30, and Viatra 100"
   ]
  },
  {
   "cell_type": "code",
   "execution_count": 49,
   "metadata": {},
   "outputs": [
    {
     "data": {
      "image/png": "[encoded data removed]",
      "text/plain": [
       "<Figure size 432x288 with 1 Axes>"
      ]
     },
     "metadata": {
      "needs_background": "light"
     },
     "output_type": "display_data"
    }
   ],
   "source": [
    "out_d_coords = calculateMDS(calculateKSMatrix([viatra30.out_ds, viatra100.out_ds, human.out_ds]))\n",
    "plot(['Viatra (30 nodes)', 'Viatra (100 nodes)' , 'Human'], out_d_coords,0, 'Out Degree')"
   ]
  },
  {
   "cell_type": "code",
   "execution_count": null,
   "metadata": {},
   "outputs": [],
   "source": []
  }
 ],
 "metadata": {
  "kernelspec": {
   "display_name": "Python 3",
   "language": "python",
   "name": "python3"
  },
  "language_info": {
   "codemirror_mode": {
    "name": "ipython",
    "version": 3
   },
   "file_extension": ".py",
   "mimetype": "text/x-python",
   "name": "python",
   "nbconvert_exporter": "python",
   "pygments_lexer": "ipython3",
   "version": "3.7.3"
  }
 },
 "nbformat": 4,
 "nbformat_minor": 2
}
